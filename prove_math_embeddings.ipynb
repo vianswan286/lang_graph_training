{
 "cells": [
  {
   "cell_type": "code",
   "execution_count": 7,
   "id": "4fefbd3c",
   "metadata": {},
   "outputs": [],
   "source": [
    "from langchain_huggingface import HuggingFaceEmbeddings\n",
    "import numpy as np\n",
    "\n",
    "embedding_model = HuggingFaceEmbeddings(model_name=\"all-MiniLM-L6-v2\")\n"
   ]
  },
  {
   "cell_type": "code",
   "execution_count": 12,
   "id": "a98ddd8a",
   "metadata": {},
   "outputs": [],
   "source": [
    "def print_results(phrase1: str, phrase2: str):\n",
    "    \"\"\"\n",
    "    Находит разность и близость предложений\n",
    "    \"\"\"\n",
    "    embeddings = embedding_model.embed_documents([phrase1, phrase2])\n",
    "    embedding1, embedding2 = embeddings\n",
    "\n",
    "    cos_sim = np.dot(embedding1, embedding2) / (np.linalg.norm(embedding1) * np.linalg.norm(embedding2))\n",
    "\n",
    "    euclidean_dist = np.linalg.norm(np.array(embedding1) - np.array(embedding2))\n",
    "\n",
    "    print(f\"Cosine similarity: {cos_sim}\")\n",
    "    print(f\"Euclidean distance: {euclidean_dist}\")"
   ]
  },
  {
   "cell_type": "code",
   "execution_count": 13,
   "id": "3b35690c",
   "metadata": {},
   "outputs": [
    {
     "name": "stdout",
     "output_type": "stream",
     "text": [
      "Cosine similarity: 0.49648923752451063\n",
      "Euclidean distance: 1.003504614313797\n"
     ]
    }
   ],
   "source": [
    "phrase1 = \"Матанализ - очень интересный предмет и мы все его любим\"\n",
    "phrase2 = \"Правда\"\n",
    "\n",
    "print_results(phrase1, phrase2)"
   ]
  },
  {
   "cell_type": "code",
   "execution_count": 14,
   "id": "7fc4afdc",
   "metadata": {},
   "outputs": [
    {
     "name": "stdout",
     "output_type": "stream",
     "text": [
      "Cosine similarity: 0.5432496308871695\n",
      "Euclidean distance: 0.9557723128142374\n"
     ]
    }
   ],
   "source": [
    "phrase3 = \"Зеленая лужайка\"\n",
    "phrase4 = \"Грибная корова\"\n",
    "\n",
    "print_results(phrase3, phrase4)"
   ]
  },
  {
   "cell_type": "markdown",
   "id": "1e23c9fa",
   "metadata": {},
   "source": [
    "Между \"зеленой лужайкой\" и \"грибной коровой\" разница меньше, а близость больше чем между утверждением \"Матанализ - очень интересный предмет и мы все его любим\" и \"правдой\"."
   ]
  },
  {
   "cell_type": "markdown",
   "id": "25be3efc",
   "metadata": {},
   "source": [
    "Что и требовалось доказать"
   ]
  }
 ],
 "metadata": {
  "kernelspec": {
   "display_name": "venv",
   "language": "python",
   "name": "python3"
  },
  "language_info": {
   "codemirror_mode": {
    "name": "ipython",
    "version": 3
   },
   "file_extension": ".py",
   "mimetype": "text/x-python",
   "name": "python",
   "nbconvert_exporter": "python",
   "pygments_lexer": "ipython3",
   "version": "3.12.3"
  }
 },
 "nbformat": 4,
 "nbformat_minor": 5
}
