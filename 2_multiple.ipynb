{
 "cells": [
  {
   "cell_type": "code",
   "execution_count": 38,
   "id": "a7a5e6bc",
   "metadata": {},
   "outputs": [],
   "source": [
    "from typing import Dict, TypedDict\n",
    "from langgraph.graph import StateGraph"
   ]
  },
  {
   "cell_type": "code",
   "execution_count": 39,
   "id": "6256c2ea",
   "metadata": {},
   "outputs": [],
   "source": [
    "class AgentState(TypedDict):\n",
    "    name: str\n",
    "    surname: str\n",
    "    final: str"
   ]
  },
  {
   "cell_type": "code",
   "execution_count": 41,
   "id": "08af213f",
   "metadata": {},
   "outputs": [],
   "source": [
    "def capytalize_both_names(state: AgentState) -> AgentState:\n",
    "    \"\"\"\n",
    "    Capytalizes both first and second names\n",
    "    \"\"\"\n",
    "    state[\"name\"] = state[\"name\"].capitalize()\n",
    "    state[\"surname\"] = state[\"surname\"].capitalize()\n",
    "    return state\n",
    "\n",
    "def finalize(state: AgentState) -> AgentState:\n",
    "    \"\"\"\n",
    "    Fills final field that is name and surname\n",
    "    \"\"\"\n",
    "    state[\"final\"] = state[\"name\"] + \" \" + state[\"surname\"]\n",
    "    return state"
   ]
  },
  {
   "cell_type": "code",
   "execution_count": 42,
   "id": "009ec40f",
   "metadata": {},
   "outputs": [],
   "source": [
    "graph = StateGraph(AgentState)\n",
    "\n",
    "graph.add_node(\"capytalize\", capytalize_both_names)\n",
    "graph.add_node(\"finalize\", finalize)\n",
    "\n",
    "graph.add_edge(\"capytalize\", \"finalize\")\n",
    "\n",
    "graph.set_entry_point(\"capytalize\")\n",
    "graph.set_finish_point(\"finalize\")\n",
    "\n",
    "app = graph.compile()"
   ]
  },
  {
   "cell_type": "code",
   "execution_count": 43,
   "id": "32c82d83",
   "metadata": {},
   "outputs": [
    {
     "data": {
      "image/png": "[encoded data removed]",
      "text/plain": [
       "<IPython.core.display.Image object>"
      ]
     },
     "metadata": {},
     "output_type": "display_data"
    }
   ],
   "source": [
    "from IPython.display import Image, display\n",
    "display(Image(app.get_graph().draw_mermaid_png()))"
   ]
  },
  {
   "cell_type": "code",
   "execution_count": 46,
   "id": "41c04ded",
   "metadata": {},
   "outputs": [
    {
     "data": {
      "text/plain": [
       "'Will Smith'"
      ]
     },
     "execution_count": 46,
     "metadata": {},
     "output_type": "execute_result"
    }
   ],
   "source": [
    "result = app.invoke({\"name\": \"will\", \"surname\": \"smith\", \"final\": \"\"})\n",
    "result[\"final\"]"
   ]
  }
 ],
 "metadata": {
  "kernelspec": {
   "display_name": "venv",
   "language": "python",
   "name": "python3"
  },
  "language_info": {
   "codemirror_mode": {
    "name": "ipython",
    "version": 3
   },
   "file_extension": ".py",
   "mimetype": "text/x-python",
   "name": "python",
   "nbconvert_exporter": "python",
   "pygments_lexer": "ipython3",
   "version": "3.12.3"
  }
 },
 "nbformat": 4,
 "nbformat_minor": 5
}
