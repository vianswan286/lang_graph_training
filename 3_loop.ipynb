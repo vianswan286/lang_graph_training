{
 "cells": [
  {
   "cell_type": "code",
   "execution_count": 26,
   "id": "9301bcea",
   "metadata": {},
   "outputs": [],
   "source": [
    "from typing import Dict, TypedDict\n",
    "from langgraph.graph import StateGraph\n",
    "import random"
   ]
  },
  {
   "cell_type": "code",
   "execution_count": 27,
   "id": "ee6fff9a",
   "metadata": {},
   "outputs": [],
   "source": [
    "class AgentState(TypedDict):\n",
    "    counter: int\n",
    "    should_we_continue: bool"
   ]
  },
  {
   "cell_type": "code",
   "execution_count": 44,
   "id": "6afbdca3",
   "metadata": {},
   "outputs": [],
   "source": [
    "from calendar import c\n",
    "\n",
    "\n",
    "def greeter(state: AgentState) -> AgentState:\n",
    "    \"\"\"\n",
    "    Greeting with makeing counter 0\n",
    "    \"\"\"\n",
    "    state[\"counter\"] = 0\n",
    "    print(\"Hello\")\n",
    "    return state\n",
    "\n",
    "def work(state: AgentState) -> AgentState:\n",
    "    \"\"\"\n",
    "    Randomely changes should_we_continue\n",
    "    \"\"\"\n",
    "    state[\"should_we_continue\"] = random.randint(0, 1)\n",
    "    state[\"counter\"] += 1\n",
    "    return state\n",
    "\n",
    "def decider(state: AgentState) -> str:\n",
    "\n",
    "    \"\"\"\n",
    "    decide whether to stop looping based on should_we_continue\n",
    "    \"\"\"\n",
    "    if state[\"should_we_continue\"]:\n",
    "        return \"continue\"\n",
    "    else:\n",
    "        return \"exit\"\n",
    "\n",
    "def fina(state: AgentState) -> AgentState:\n",
    "    \"\"\"\n",
    "    Ends program\n",
    "    \"\"\"\n",
    "    print(\"counter:\", state[\"counter\"])\n",
    "    return state\n",
    "        "
   ]
  },
  {
   "cell_type": "code",
   "execution_count": 45,
   "id": "91c22b56",
   "metadata": {},
   "outputs": [],
   "source": [
    "graph = StateGraph(AgentState)\n",
    "\n",
    "graph.add_node(\"greeter\", greeter)\n",
    "graph.add_node(\"work\", work)\n",
    "graph.add_node(\"fina\", fina)\n",
    "\n",
    "graph.add_edge(\"greeter\", \"work\")\n",
    "graph.add_conditional_edges(\n",
    "    \"work\",\n",
    "    decider,\n",
    "    {\n",
    "        \"continue\": \"work\",\n",
    "        \"exit\": \"fina\"\n",
    "    }\n",
    ")\n",
    "\n",
    "graph.set_entry_point(\"greeter\")\n",
    "graph.set_finish_point(\"fina\")\n",
    "\n",
    "app = graph.compile()"
   ]
  },
  {
   "cell_type": "code",
   "execution_count": 46,
   "id": "6d19b215",
   "metadata": {},
   "outputs": [
    {
     "data": {
      "image/png": "[encoded data removed]",
      "text/plain": [
       "<IPython.core.display.Image object>"
      ]
     },
     "metadata": {},
     "output_type": "display_data"
    }
   ],
   "source": [
    "from IPython.display import Image, display\n",
    "display(Image(app.get_graph().draw_mermaid_png()))"
   ]
  },
  {
   "cell_type": "code",
   "execution_count": 47,
   "id": "80644fad",
   "metadata": {},
   "outputs": [
    {
     "name": "stdout",
     "output_type": "stream",
     "text": [
      "Hello\n",
      "counter: 2\n"
     ]
    }
   ],
   "source": [
    "result = app.invoke({\"counter\": 10, \"should_we_continue\": 1})"
   ]
  }
 ],
 "metadata": {
  "kernelspec": {
   "display_name": "venv",
   "language": "python",
   "name": "python3"
  },
  "language_info": {
   "codemirror_mode": {
    "name": "ipython",
    "version": 3
   },
   "file_extension": ".py",
   "mimetype": "text/x-python",
   "name": "python",
   "nbconvert_exporter": "python",
   "pygments_lexer": "ipython3",
   "version": "3.12.3"
  }
 },
 "nbformat": 4,
 "nbformat_minor": 5
}
